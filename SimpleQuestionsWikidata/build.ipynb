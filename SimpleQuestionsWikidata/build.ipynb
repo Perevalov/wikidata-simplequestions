{
 "cells": [
  {
   "cell_type": "code",
   "execution_count": 1,
   "metadata": {
    "collapsed": true
   },
   "outputs": [],
   "source": [
    "import requests\n",
    "import re\n",
    "from collections import *\n",
    "import bs4"
   ]
  },
  {
   "cell_type": "code",
   "execution_count": 2,
   "metadata": {},
   "outputs": [
    {
     "name": "stdout",
     "output_type": "stream",
     "text": [
      "topic mapping with 3827703 matches\n"
     ]
    }
   ],
   "source": [
    "# Freebase mids to Wikidata\n",
    "qid_for_mid = {}\n",
    "with open('mid_to_qid.tsv', 'rt') as fp:\n",
    "    for line in fp:\n",
    "        (mid, qid) = line.strip().split()\n",
    "        qid_for_mid['www.freebase.com/' + mid.replace('.', '/')] = qid\n",
    "\n",
    "qid_for_mid['www.freebase.com/m/05zppz'] = 'Q6581097' #sex: male\n",
    "qid_for_mid['www.freebase.com/m/02zsn'] = 'Q6581072' #sex: female\n",
    "\n",
    "print('topic mapping with {} matches'.format(len(qid_for_mid)))"
   ]
  },
  {
   "cell_type": "code",
   "execution_count": 3,
   "metadata": {
    "scrolled": false
   },
   "outputs": [
    {
     "name": "stdout",
     "output_type": "stream",
     "text": [
      "property mappings with 404 matches\n"
     ]
    }
   ],
   "source": [
    "# Freebase properties mapping\n",
    "\n",
    "def get_reverse(name):\n",
    "    name = name.replace('www.freebase.com', '')\n",
    "    #very hacky way to retrieve the data \n",
    "    json = requests.get('http://archive.org/wayback/available', {'url': 'http://www.freebase.com:80' + name}).json()\n",
    "    if 'closest' in json['archived_snapshots'] and json['archived_snapshots']['closest']['available']:\n",
    "        soup = bs4.BeautifulSoup(requests.get(json['archived_snapshots']['closest']['url']).content, 'html.parser')\n",
    "        elem = soup.find('td', class_='rev_predicate')\n",
    "        if elem is not None:\n",
    "            return 'www.freebase.com' + elem('a')[0].text\n",
    "    return None\n",
    "\n",
    "pid_for_prop = {}\n",
    "wikitext = requests.get('https://www.wikidata.org/wiki/Wikidata:WikiProject_Freebase/Mapping?action=raw').text\n",
    "(ns_part, key_part) = wikitext.split('(/key/ namespace)')\n",
    "for match in re.findall(r'\\|\\-\\n *\\| *https?:\\/\\/www\\.freebase\\.com\\/([a-zA-Z0-9\\/_\\-]+) *\\n\\| *(.*) *\\n', ns_part):\n",
    "    match_res = re.match(r'\\{\\{[pP]\\|(\\d+)\\}\\}', match[1])\n",
    "    if match_res:\n",
    "        prop = 'www.freebase.com/' + match[0]\n",
    "        pid_for_prop[prop] = 'P' + match_res.group(1)\n",
    "        inverse = get_reverse(prop)\n",
    "        if inverse is not None and inverse not in pid_for_prop:\n",
    "            pid_for_prop[inverse] = 'R' + match_res.group(1)\n",
    "print('property mappings with {} matches'.format(len(pid_for_prop)))"
   ]
  },
  {
   "cell_type": "code",
   "execution_count": 5,
   "metadata": {},
   "outputs": [
    {
     "name": "stdout",
     "output_type": "stream",
     "text": [
      "34374 questions over 75910 have been converted for file SimpleQuestions_v2/annotated_fb_data_train.txt\n",
      "{'www.freebase.com/medicine/manufactured_drug_form/color': 103, 'www.freebase.com/music/artist/track': 791, 'www.freebase.com/common/topic/notable_types': 1610, 'www.freebase.com/music/album/album_content_type': 892, 'www.freebase.com/education/educational_institution/colors': 177, 'www.freebase.com/business/industry/companies': 107, 'www.freebase.com/music/release/track': 732, 'www.freebase.com/music/release/region': 761, 'www.freebase.com/medicine/drug_formulation/legal_status': 159, 'www.freebase.com/cvg/game_version/publisher': 153, 'www.freebase.com/medicine/drug_formulation/active_ingredient_moieties': 159, 'www.freebase.com/cvg/game_version/platform': 163, 'www.freebase.com/music/release/track_list': 679, 'www.freebase.com/music/composition/form': 208, 'www.freebase.com/book/book_edition/author_editor': 143, 'www.freebase.com/music/single/versions': 113, 'www.freebase.com/book/written_work/subjects': 1092, 'www.freebase.com/music/album/release_type': 1044, 'www.freebase.com/book/book_edition/binding': 121, 'www.freebase.com/music/release_track/recording': 411, 'www.freebase.com/music/composer/compositions': 230, 'www.freebase.com/astronomy/star_system_body/star_system': 194, 'www.freebase.com/medicine/drug_formulation/active_ingredients': 138, 'www.freebase.com/film/film/subjects': 118, 'www.freebase.com/music/recording/releases': 646, 'www.freebase.com/music/artist/origin': 441, 'www.freebase.com/location/location/containedby': 2472, 'www.freebase.com/business/business_operation/industry': 181, 'www.freebase.com/education/school_category/schools_of_this_kind': 165, 'www.freebase.com/music/release/format': 619, 'www.freebase.com/music/recording/song': 112, 'www.freebase.com/medicine/drug_formulation/drug_category': 112, 'www.freebase.com/music/album_release_type/albums': 338, 'www.freebase.com/music/release_track/release': 676, 'www.freebase.com/book/author/book_editions_published': 101, 'www.freebase.com/broadcast/artist/content': 114, 'www.freebase.com/music/recording/canonical_version': 131, 'www.freebase.com/book/book_subject/works': 538, 'www.freebase.com/location/location/contains': 1243, 'www.freebase.com/education/educational_institution/school_type': 303, 'www.freebase.com/broadcast/content/artist': 104, 'www.freebase.com/music/recording/tracks': 454, 'www.freebase.com/music/album_content_type/albums': 363, 'www.freebase.com/cvg/game_version/developer': 108, 'www.freebase.com/astronomy/celestial_object_category/objects': 118, 'www.freebase.com/visual_art/visual_artist/art_forms': 118, 'www.freebase.com/music/recording/artist': 1080}\n",
      "9961 questions over 21687 have been converted for file SimpleQuestions_v2/annotated_fb_data_test.txt\n",
      "{'www.freebase.com/music/release/region': 203, 'www.freebase.com/music/release_track/release': 205, 'www.freebase.com/music/album/release_type': 284, 'www.freebase.com/music/release_track/recording': 111, 'www.freebase.com/music/album/album_content_type': 267, 'www.freebase.com/book/book_subject/works': 161, 'www.freebase.com/common/topic/notable_types': 442, 'www.freebase.com/location/location/contains': 321, 'www.freebase.com/music/artist/origin': 117, 'www.freebase.com/location/location/containedby': 722, 'www.freebase.com/music/artist/track': 233, 'www.freebase.com/music/release/track_list': 192, 'www.freebase.com/music/recording/tracks': 142, 'www.freebase.com/music/release/format': 173, 'www.freebase.com/music/release/track': 208, 'www.freebase.com/music/recording/releases': 166, 'www.freebase.com/book/written_work/subjects': 326, 'www.freebase.com/music/recording/artist': 331}\n",
      "4867 questions over 10845 have been converted for file SimpleQuestions_v2/annotated_fb_data_valid.txt\n",
      "{'www.freebase.com/music/release/region': 104, 'www.freebase.com/location/location/containedby': 351, 'www.freebase.com/music/artist/track': 103, 'www.freebase.com/music/recording/artist': 174, 'www.freebase.com/music/release_track/release': 103, 'www.freebase.com/music/album/release_type': 149, 'www.freebase.com/music/release/track': 104, 'www.freebase.com/book/written_work/subjects': 167, 'www.freebase.com/common/topic/notable_types': 219, 'www.freebase.com/location/location/contains': 174, 'www.freebase.com/music/album/album_content_type': 126}\n"
     ]
    }
   ],
   "source": [
    "def map_dataset(file_name):\n",
    "    before_conv_count = 0\n",
    "    after_conv_count = 0\n",
    "    missed_predicates = defaultdict(int)\n",
    "    with open(file_name, 'rt') as fp:\n",
    "        for line in fp:\n",
    "            before_conv_count += 1\n",
    "            (subj, pred, obj, question) = line.split('\\t')\n",
    "            if pred not in pid_for_prop:\n",
    "                missed_predicates[pred] += 1\n",
    "            elif subj in qid_for_mid and obj in qid_for_mid:\n",
    "                after_conv_count += 1\n",
    "                yield (qid_for_mid[subj], pid_for_prop[pred], qid_for_mid[obj], question)\n",
    "    print('{} questions over {} have been converted for file {}'.format(after_conv_count, before_conv_count, file_name))\n",
    "    print(dict((s,c) for s,c in missed_predicates.items() if c > 100))\n",
    "\n",
    "def convert_dataset(input_file, output_file):\n",
    "    with open(output_file, 'wt') as fp:\n",
    "        for (s, p, o, q) in map_dataset(input_file):\n",
    "            fp.write('{}\\t{}\\t{}\\t{}'.format(s, p, o, q))\n",
    "\n",
    "convert_dataset('SimpleQuestions_v2/annotated_fb_data_train.txt', 'annotated_wd_data_train.txt')\n",
    "convert_dataset('SimpleQuestions_v2/annotated_fb_data_test.txt', 'annotated_wd_data_test.txt')\n",
    "convert_dataset('SimpleQuestions_v2/annotated_fb_data_valid.txt', 'annotated_wd_data_valid.txt')"
   ]
  },
  {
   "cell_type": "code",
   "execution_count": null,
   "metadata": {
    "collapsed": true
   },
   "outputs": [],
   "source": []
  }
 ],
 "metadata": {
  "kernelspec": {
   "display_name": "Python 3",
   "language": "python",
   "name": "python3"
  },
  "language_info": {
   "codemirror_mode": {
    "name": "ipython",
    "version": 3
   },
   "file_extension": ".py",
   "mimetype": "text/x-python",
   "name": "python",
   "nbconvert_exporter": "python",
   "pygments_lexer": "ipython3",
   "version": "3.5.2"
  }
 },
 "nbformat": 4,
 "nbformat_minor": 2
}
